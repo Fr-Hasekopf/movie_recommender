{
 "cells": [
  {
   "cell_type": "code",
   "execution_count": 3,
   "metadata": {},
   "outputs": [],
   "source": [
    "import numpy as np \n",
    "import pandas as pd"
   ]
  },
  {
   "cell_type": "code",
   "execution_count": 4,
   "metadata": {},
   "outputs": [
    {
     "data": {
      "text/plain": [
       "45476"
      ]
     },
     "execution_count": 4,
     "metadata": {},
     "output_type": "execute_result"
    }
   ],
   "source": [
    "credits = pd. read_csv('credits.csv')\n",
    "len(credits['id'])"
   ]
  },
  {
   "cell_type": "code",
   "execution_count": 5,
   "metadata": {},
   "outputs": [
    {
     "data": {
      "text/plain": [
       "46419"
      ]
     },
     "execution_count": 5,
     "metadata": {},
     "output_type": "execute_result"
    }
   ],
   "source": [
    "keywords = pd. read_csv('keywords.csv')\n",
    "len(keywords['id'])"
   ]
  },
  {
   "cell_type": "code",
   "execution_count": 6,
   "metadata": {},
   "outputs": [
    {
     "data": {
      "text/plain": [
       "45843"
      ]
     },
     "execution_count": 6,
     "metadata": {},
     "output_type": "execute_result"
    }
   ],
   "source": [
    "links = pd. read_csv('links.csv')\n",
    "len(links['movieId'])"
   ]
  },
  {
   "cell_type": "code",
   "execution_count": 1,
   "metadata": {},
   "outputs": [
    {
     "data": {
      "text/plain": [
       "\" md= pd. read_csv('movies_metadata.csv')\\nlen(md['id']) \""
      ]
     },
     "execution_count": 1,
     "metadata": {},
     "output_type": "execute_result"
    }
   ],
   "source": [
    "md= pd. read_csv('movies_metadata.csv')\n",
    "len(md['id'])"
   ]
  },
  {
   "cell_type": "code",
   "execution_count": 8,
   "metadata": {},
   "outputs": [
    {
     "name": "stdout",
     "output_type": "stream",
     "text": [
      "9066\n",
      "<class 'pandas.core.frame.DataFrame'>\n",
      "RangeIndex: 100004 entries, 0 to 100003\n",
      "Data columns (total 4 columns):\n",
      " #   Column     Non-Null Count   Dtype  \n",
      "---  ------     --------------   -----  \n",
      " 0   userId     100004 non-null  int64  \n",
      " 1   movieId    100004 non-null  int64  \n",
      " 2   rating     100004 non-null  float64\n",
      " 3   timestamp  100004 non-null  int64  \n",
      "dtypes: float64(1), int64(3)\n",
      "memory usage: 3.1 MB\n",
      "None\n",
      "userId       0\n",
      "movieId      0\n",
      "rating       0\n",
      "timestamp    0\n",
      "dtype: int64\n"
     ]
    }
   ],
   "source": [
    "ratings_small = pd.read_csv('ratings_small.csv')\n",
    "print(len(ratings_small['movieId'].unique()))\n",
    "print(ratings_small.info())\n",
    "print(ratings_small.isnull().sum())"
   ]
  },
  {
   "cell_type": "code",
   "execution_count": 9,
   "metadata": {},
   "outputs": [
    {
     "name": "stdout",
     "output_type": "stream",
     "text": [
      "270896\n",
      "<class 'pandas.core.frame.DataFrame'>\n",
      "RangeIndex: 26024289 entries, 0 to 26024288\n",
      "Data columns (total 4 columns):\n",
      " #   Column     Dtype  \n",
      "---  ------     -----  \n",
      " 0   userId     int64  \n",
      " 1   movieId    int64  \n",
      " 2   rating     float64\n",
      " 3   timestamp  int64  \n",
      "dtypes: float64(1), int64(3)\n",
      "memory usage: 794.2 MB\n",
      "None\n",
      "userId       0\n",
      "movieId      0\n",
      "rating       0\n",
      "timestamp    0\n",
      "dtype: int64\n"
     ]
    }
   ],
   "source": [
    "ratings= pd.read_csv('ratings.csv')\n",
    "print(len(ratings['userId'].unique()))\n",
    "print(ratings.info())\n",
    "print(ratings.isnull().sum())"
   ]
  },
  {
   "cell_type": "code",
   "execution_count": 10,
   "metadata": {},
   "outputs": [
    {
     "name": "stdout",
     "output_type": "stream",
     "text": [
      "(27, 4)\n",
      "(2955, 4)\n",
      "(5, 4)\n"
     ]
    }
   ],
   "source": [
    "print(ratings[ratings['userId']==1].shape)\n",
    "print(ratings[ratings['userId']==5829].shape)\n",
    "print(ratings[ratings['userId']==9173].shape)"
   ]
  },
  {
   "cell_type": "code",
   "execution_count": 2,
   "metadata": {},
   "outputs": [],
   "source": [
    "#print(ratings[ratings['userId']>1][ratings['userId']<3].shape)\n",
    "#print(ratings[ratings['userId']==2].shape)\n",
    "\n",
    "ratings_to_merge1 = ratings[ratings['userId']>5729][ratings['userId']<5930]\n",
    "ratings_to_merge2 = ratings[ratings['userId']>9073][ratings['userId']<9274]\n",
    "\n",
    "ratings_merged = pd.concat([ratings_small, ratings_to_merge1,ratings_to_merge2])\n",
    "print(ratings_merged.info())\n",
    "print(ratings_merged.shape)\n",
    "print(ratings_merged['userId'].unique().shape)"
   ]
  },
  {
   "cell_type": "code",
   "execution_count": 14,
   "metadata": {},
   "outputs": [],
   "source": [
    "from surprise import SVD\n",
    "from surprise.model_selection import cross_validate\n",
    "from surprise import accuracy\n",
    "from surprise.model_selection import train_test_split\n",
    "from surprise import BaselineOnly\n",
    "from surprise import Dataset\n",
    "from surprise import Reader"
   ]
  },
  {
   "cell_type": "code",
   "execution_count": 15,
   "metadata": {},
   "outputs": [],
   "source": [
    "# Creation of the dataframe. Column names are irrelevant.\n",
    "\n",
    "# A reader is still needed but only the rating_scale param is requiered.\n",
    "reader = Reader(rating_scale=(1, 5))\n",
    "\n",
    "# The columns must correspond to user id, item id and ratings (in that order).\n",
    "data = Dataset.load_from_df(ratings_merged[['userId', 'movieId', 'rating']], reader=reader)\n"
   ]
  },
  {
   "cell_type": "code",
   "execution_count": 16,
   "metadata": {},
   "outputs": [
    {
     "name": "stdout",
     "output_type": "stream",
     "text": [
      "Evaluating RMSE, MAE of algorithm SVD on 5 split(s).\n",
      "\n",
      "                  Fold 1  Fold 2  Fold 3  Fold 4  Fold 5  Mean    Std     \n",
      "RMSE (testset)    0.8856  0.8816  0.8835  0.8839  0.8942  0.8858  0.0044  \n",
      "MAE (testset)     0.6812  0.6774  0.6800  0.6819  0.6880  0.6817  0.0035  \n",
      "Fit time          7.19    8.21    7.13    7.26    7.02    7.36    0.43    \n",
      "Test time         0.31    0.29    0.26    0.19    0.28    0.26    0.04    \n"
     ]
    }
   ],
   "source": [
    "trainset = data.build_full_trainset()\n",
    "#using SVD algo\n",
    "algo = SVD()\n",
    "algo.fit(trainset)\n",
    "cross_validate(algo, data, measures=['RMSE', 'MAE'], cv=5, verbose=True)\n",
    "\n",
    "#generate test set from unrated movies by users\n",
    "testset = trainset.build_anti_testset()\n",
    "predictions = algo.test(testset)  #predictions\n"
   ]
  },
  {
   "cell_type": "code",
   "execution_count": 17,
   "metadata": {
    "scrolled": true
   },
   "outputs": [
    {
     "name": "stdout",
     "output_type": "stream",
     "text": [
      "10665385\n"
     ]
    },
    {
     "data": {
      "text/plain": [
       "[Prediction(uid=1, iid=10, r_ui=3.5432585376840566, est=2.6059663126709927, details={'was_impossible': False}),\n",
       " Prediction(uid=1, iid=17, r_ui=3.5432585376840566, est=3.2030359251514637, details={'was_impossible': False}),\n",
       " Prediction(uid=1, iid=39, r_ui=3.5432585376840566, est=2.9063464905121084, details={'was_impossible': False}),\n",
       " Prediction(uid=1, iid=47, r_ui=3.5432585376840566, est=3.2339235386250076, details={'was_impossible': False}),\n",
       " Prediction(uid=1, iid=50, r_ui=3.5432585376840566, est=3.7727949039734465, details={'was_impossible': False})]"
      ]
     },
     "execution_count": 17,
     "metadata": {},
     "output_type": "execute_result"
    }
   ],
   "source": [
    "print(len(predictions))\n",
    "predictions[:5]"
   ]
  },
  {
   "cell_type": "code",
   "execution_count": 18,
   "metadata": {},
   "outputs": [],
   "source": [
    "from collections import defaultdict\n",
    "def get_top_n(predictions, n=3):\n",
    "    '''for every user return N movies as a dict\n",
    "    userId as keys, a tuple for corresponding values\n",
    "        [(item id, rating estimation), ...].\n",
    "    '''\n",
    "    # retrieve predictions for each userId\n",
    "    top_n = defaultdict(list)\n",
    "    for uid, iid, r_ui, est, details in predictions:\n",
    "        top_n[uid].append((iid, est))\n",
    "    # get top N items\n",
    "    for uid, user_ratings in top_n.items():\n",
    "        user_ratings.sort(key=lambda x: x[1], reverse=True)\n",
    "        top_n[uid] = user_ratings[:n]\n",
    "    return top_n\n",
    "\n",
    "top_n = get_top_n(predictions, n=3)\n",
    "\n"
   ]
  },
  {
   "cell_type": "code",
   "execution_count": 19,
   "metadata": {},
   "outputs": [
    {
     "name": "stdout",
     "output_type": "stream",
     "text": [
      "(1071,)\n"
     ]
    }
   ],
   "source": [
    "print(ratings_merged['userId'].unique().shape)"
   ]
  },
  {
   "cell_type": "code",
   "execution_count": 21,
   "metadata": {},
   "outputs": [
    {
     "name": "stderr",
     "output_type": "stream",
     "text": [
      "C:\\Users\\Lin Fan\\anaconda3\\lib\\site-packages\\IPython\\core\\interactiveshell.py:3063: DtypeWarning: Columns (10) have mixed types.Specify dtype option on import or set low_memory=False.\n",
      "  interactivity=interactivity, compiler=compiler, result=result)\n"
     ]
    },
    {
     "name": "stdout",
     "output_type": "stream",
     "text": [
      "1997-08-20\n",
      "45466\n",
      "45463\n",
      "   userId                      rec1                       rec2  \\\n",
      "0       1  The Shawshank Redemption                    Memento   \n",
      "1       2             The Godfather                  Gladiator   \n",
      "2       3       There Will Be Blood                        Ran   \n",
      "3       4           Cinema Paradiso                 Braveheart   \n",
      "4       5        The Princess Bride  The City of Lost Children   \n",
      "\n",
      "                                                rec3  \n",
      "0                                          Chinatown  \n",
      "1                                         Fight Club  \n",
      "2                                 The Maltese Falcon  \n",
      "3                                   Schindler's List  \n",
      "4  Dr. Strangelove or: How I Learned to Stop Worr...  \n",
      "userId                           1\n",
      "rec1      The Shawshank Redemption\n",
      "rec2                       Memento\n",
      "rec3                     Chinatown\n",
      "Name: 0, dtype: object\n"
     ]
    }
   ],
   "source": [
    "#print(top_n[671])\n",
    "\n",
    "rec_result=np.zeros((1071,4))  #use matrix for the results\n",
    "i=0\n",
    "for uid, user_ratings in top_n.items():\n",
    "    rec_result[i,0]=uid\n",
    "    rec_result[i,1:]=[iid for (iid, est) in user_ratings]\n",
    "    i=i+1\n",
    "rec_result=rec_result.astype('int')\n",
    "\n",
    "\n",
    "\n",
    "#convert to DataFrame\n",
    "rec_result=pd.DataFrame(rec_result,columns=['userId','rec1','rec2','rec3'])\n",
    "\n",
    "#print(rec_result[:10])\n",
    "\n",
    "#Build helper functions to link id to movie names\n",
    "md= pd.read_csv('movies_metadata.csv')\n",
    "\n",
    "links = pd.read_csv('links.csv')\n",
    "#print(len(links_small))\n",
    "links=links.dropna()\n",
    "#print(len(links_small))\n",
    "links['tmdbId'] = links['tmdbId'].astype('int')\n",
    "#print(len(links_small['tmdbId']))\n",
    "print(md['id'][19730])\n",
    "print(len(md))\n",
    "md.drop(md.index[19730], inplace=True)\n",
    "md.drop(md.index[29502], inplace=True)\n",
    "md.drop(md.index[35585], inplace=True)\n",
    "print(len(md))\n",
    "md['id']=pd.to_numeric(md['id'])\n",
    "smd = md[md['id'].isin(links)]\n",
    "\n",
    "\n",
    "\n",
    "#从idtomovie\n",
    "def id2movie(idd):\n",
    "    #print(idd)\n",
    "    link=links[links.movieId==idd].tmdbId\n",
    "    if len(link)==0:\n",
    "        return ''\n",
    "    a=smd[smd.id==int(link)]['title']\n",
    "    if len(a)==0:\n",
    "        b=md[md.id==int(links[links.movieId==idd].tmdbId)]['title']\n",
    "        if len(b)==0:\n",
    "            return ''\n",
    "        else:\n",
    "            return b.values[0]\n",
    "    else:\n",
    "        return a.values[0]\n",
    "\n",
    "for i in range(1,4):\n",
    "    rec_result['rec'+str(i)]=rec_result['rec'+str(i)].apply(id2movie)\n",
    "print(rec_result[:5])\n",
    "\n",
    "    "
   ]
  },
  {
   "cell_type": "code",
   "execution_count": 27,
   "metadata": {},
   "outputs": [
    {
     "name": "stdout",
     "output_type": "stream",
     "text": [
      "   userId                      rec1     rec2       rec3\n",
      "0       1  The Shawshank Redemption  Memento  Chinatown\n",
      "     userId rec1             rec2                         rec3\n",
      "770    5829       The Corporation  The Best Years of Our Lives\n",
      "     userId                    rec1           rec2                      rec3\n",
      "970    9173  The Godfather: Part II  The Godfather  The Shawshank Redemption\n"
     ]
    }
   ],
   "source": [
    "print(rec_result[rec_result['userId']==1])\n",
    "print(rec_result[rec_result['userId']==5829])\n",
    "print(rec_result[rec_result['userId']==9173])"
   ]
  },
  {
   "cell_type": "markdown",
   "metadata": {},
   "source": [
    "--------------------------------POPULARITY----------------------------------------------"
   ]
  },
  {
   "cell_type": "code",
   "execution_count": 30,
   "metadata": {},
   "outputs": [],
   "source": [
    "from ast import literal_eval\n",
    "import warnings; warnings.simplefilter('ignore')\n",
    "import pymysql"
   ]
  },
  {
   "cell_type": "code",
   "execution_count": 3,
   "metadata": {},
   "outputs": [],
   "source": [
    "#Read from Database\n",
    "#Connect Database\n",
    "conn = pymysql.connect(host='10.110.43.140',port= 3306,user = '###',passwd='####',db='sys') #db：库名\n",
    "#Create Cursor\n",
    "cur = conn.cursor()\n",
    "#Read from database\n",
    "md=pd.read_sql('SELECT * FROM db_movies.tb_movies;',conn)\n",
    "cur.close()\n",
    "conn.close()\n",
    "#change column names\n",
    "md.columns=['adult', 'belongs_to_collection', 'budget', 'genres', 'homepage', 'id',\n",
    "       'imdb_id', 'original_language', 'original_title', 'overview',\n",
    "       'popularity', 'poster_path', 'production_companies',\n",
    "       'production_countries', 'release_date', 'revenue', 'runtime',\n",
    "       'spoken_languages', 'status', 'tagline', 'title', 'video',\n",
    "       'vote_average', 'vote_count']"
   ]
  },
  {
   "cell_type": "code",
   "execution_count": null,
   "metadata": {},
   "outputs": [],
   "source": []
  }
 ],
 "metadata": {
  "kernelspec": {
   "display_name": "Python 3.9.5 64-bit",
   "language": "python",
   "name": "python3"
  },
  "language_info": {
   "codemirror_mode": {
    "name": "ipython",
    "version": 3
   },
   "file_extension": ".py",
   "mimetype": "text/x-python",
   "name": "python",
   "nbconvert_exporter": "python",
   "pygments_lexer": "ipython3",
   "version": "3.9.5"
  },
  "vscode": {
   "interpreter": {
    "hash": "9a16b83d604057d68882075dbe4dec6b72625590fce4a16e344b25a14f07e3e7"
   }
  }
 },
 "nbformat": 4,
 "nbformat_minor": 4
}
